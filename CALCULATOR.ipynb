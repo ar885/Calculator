{
 "cells": [
  {
   "cell_type": "code",
   "execution_count": null,
   "id": "29c6a4cc",
   "metadata": {},
   "outputs": [],
   "source": [
    "#Calculator Application\n",
    "\n",
    "#import everything from tkinter module(tkinter is a GUI toolkit)\n",
    "from tkinter import *\n",
    "exp=\"\"\n",
    "\n",
    "class calculate(tkinter.Tk):\n",
    "    def __init__(self,num):\n",
    "        super().__init__()\n",
    "        self.num=num\n",
    "    \n",
    "    def press(num):\n",
    "        global exp\n",
    "        exp= exp+str(num)\n",
    "        equat.set(exp)\n",
    "    \n",
    "    "
   ]
  }
 ],
 "metadata": {
  "kernelspec": {
   "display_name": "Python 3",
   "language": "python",
   "name": "python3"
  },
  "language_info": {
   "codemirror_mode": {
    "name": "ipython",
    "version": 3
   },
   "file_extension": ".py",
   "mimetype": "text/x-python",
   "name": "python",
   "nbconvert_exporter": "python",
   "pygments_lexer": "ipython3",
   "version": "3.8.8"
  }
 },
 "nbformat": 4,
 "nbformat_minor": 5
}
